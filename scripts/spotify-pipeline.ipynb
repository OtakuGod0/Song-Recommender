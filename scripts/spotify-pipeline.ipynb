{
 "cells": [
  {
   "cell_type": "code",
   "execution_count": 2,
   "id": "1596ba1d-cb06-45fd-a804-dd41af4a3a62",
   "metadata": {},
   "outputs": [],
   "source": [
    "import os \n",
    "import pandas as pd \n",
    "import numpy as np\n",
    "import spotipy\n",
    "from spotipy.oauth2 import SpotifyOAuth\n",
    "import time"
   ]
  },
  {
   "cell_type": "code",
   "execution_count": 2,
   "id": "b51a46fe-29f6-45a3-bdc1-b4c5a34da7ea",
   "metadata": {},
   "outputs": [],
   "source": [
    "CLIENT_ID = os.getenv(\"SPOTIFY_CLIENT_ID\")\n",
    "CLIENT_SECRET = os.getenv(\"SPOTIFY_CLIENT_SECRET\")"
   ]
  },
  {
   "cell_type": "code",
   "execution_count": 3,
   "id": "5277ed87-5f12-4330-b12e-071d75e53bb2",
   "metadata": {},
   "outputs": [],
   "source": [
    "sp = spotipy.Spotify(auth_manager=SpotifyOAuth(\n",
    "    client_id=CLIENT_ID,\n",
    "    client_secret=CLIENT_SECRET,\n",
    "    redirect_uri=\"http://localhost:888/callback\",  # Must match the URI you set on spotify api dashboard\n",
    "    scope=\"user-library-read\",\n",
    "    cache_path=\".spotify_cache\"\n",
    "))"
   ]
  },
  {
   "cell_type": "code",
   "execution_count": 5,
   "id": "fc211cc8-4414-410b-939b-cbec224b4f23",
   "metadata": {},
   "outputs": [],
   "source": [
    "df = pd.read_csv(\"filtered_data.csv\").sample(n = 50)"
   ]
  },
  {
   "cell_type": "code",
   "execution_count": 6,
   "id": "41faf6c8-8aa1-462b-a1cc-541ea7e33586",
   "metadata": {},
   "outputs": [],
   "source": [
    "def get_info(sp, song):\n",
    "    # searching the song and selecting first song\n",
    "    results = sp.search(q=song, limit=1, type='track')\n",
    "    track = results['tracks']['items'][0]\n",
    "\n",
    "    # retreving necessary song data from track\n",
    "    song_data = {\n",
    "        'release_date': track['album']['release_date'], \n",
    "        'spotify_id': track['id'], \n",
    "        'popularity': track['popularity']\n",
    "    }\n",
    "\n",
    "    # getting audio features and appending to song_data\n",
    "    audio_features = sp.audio_features(song_data['spotify_id'])[0]\n",
    "\n",
    "    # selecting only the necessary features\n",
    "    features_to_select = ['danceability', 'energy', 'key', 'loudness', 'mode', 'speechiness', 'acousticness', 'instrumentalness', 'liveness', 'valence', 'time_signature']\n",
    "    selected_features = {key: audio_features[key] for key in features_to_select}\n",
    "    song_data.update(selected_features)\n",
    "\n",
    "    return song_data\n",
    "    "
   ]
  },
  {
   "cell_type": "code",
   "execution_count": 1,
   "id": "1296d44c-b702-452f-8899-697fd32c3343",
   "metadata": {},
   "outputs": [],
   "source": [
    "def process_data(sp, input_df): \n",
    "    # Initialize an empty list to accumulate rows\n",
    "    rows = []\n",
    "    \n",
    "    data_count = 0 # retrived data count \n",
    "    \n",
    "    # iterating over each row of data and collecting their information from spotify api\n",
    "    for index, row in input_df.iterrows():\n",
    "        sleep_count = 60 # sleep count for retry error 429 to many request\n",
    "        while True: # For retry (error 429)\n",
    "            try: \n",
    "                # Getting info from Spotify \n",
    "                info = get_info(sp, f\"{row['song']} by {row['artist']}\")\n",
    "                \n",
    "                # Appending song name and artist to the info dictionary\n",
    "                info.update({'song': row['song'], 'artist': row['artist']})\n",
    "            \n",
    "                # Accumulate the info dictionary in a list\n",
    "                rows.append(info)\n",
    "        \n",
    "                # Retrived data count \n",
    "                data_count += 1\n",
    "                print(f\"{data_count} data retrived\", end='\\r') #overwrite the previous output\n",
    "\n",
    "                # Break from infinite while loop to move on to next row\n",
    "                break\n",
    "                \n",
    "            # for catching to many request (429) error\n",
    "            except HTTPError as http_err:\n",
    "                if http_err.response.status_code == 429: # Handling to many request \n",
    "                    print(\"request limit reached\")\n",
    "\n",
    "                    # saving accumulated data incase of failure\n",
    "                    if sleep_count == 60: # checking if first loop\n",
    "                        print(\"Saving accumulated data in case of failure\")\n",
    "                        tmp_df = pd.DataFrame(rows)\n",
    "                        tmp_df.to_csv('tmp.csv', index = False)\n",
    "\n",
    "                    # Sleeping \n",
    "                    print(f\"sleeping for {sleep_count} seconds\")\n",
    "                    time.sleep(sleep_count)\n",
    "\n",
    "                    # Exponentialy increasing sleep_count to tackle error 429 in next loop \n",
    "                    sleep_count = sleep_count**2 \n",
    "\n",
    "                    continue\n",
    "                else:\n",
    "                    print(f\"HTTP Error: {http_err}\")\n",
    "                    break\n",
    "                    \n",
    "            except Exception as e: \n",
    "                print(f\"Error getting info from Spotify: {e}\")\n",
    "                break\n",
    "    \n",
    "    \n",
    "    # Convert accumulated rows to DataFrame at once\n",
    "    featured_df = pd.DataFrame(rows)\n",
    "    return featured_df"
   ]
  },
  {
   "cell_type": "code",
   "execution_count": 10,
   "id": "d5f2a693-b036-4a3c-8fcc-c59b9376926d",
   "metadata": {},
   "outputs": [],
   "source": [
    "def store_data(input_df, output_file): \n",
    "    input_df.to_csv(output_file, index = False)"
   ]
  }
 ],
 "metadata": {
  "kernelspec": {
   "display_name": "Python 3 (ipykernel)",
   "language": "python",
   "name": "python3"
  },
  "language_info": {
   "codemirror_mode": {
    "name": "ipython",
    "version": 3
   },
   "file_extension": ".py",
   "mimetype": "text/x-python",
   "name": "python",
   "nbconvert_exporter": "python",
   "pygments_lexer": "ipython3",
   "version": "3.12.4"
  }
 },
 "nbformat": 4,
 "nbformat_minor": 5
}
