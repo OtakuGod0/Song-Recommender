{
 "cells": [
  {
   "cell_type": "code",
   "execution_count": 1,
   "id": "5df0d5f2-1da3-4b66-9703-6ef4fd781752",
   "metadata": {},
   "outputs": [],
   "source": [
    "import pandas as pd \n",
    "import numpy as np\n",
    "import os"
   ]
  },
  {
   "cell_type": "code",
   "execution_count": 2,
   "id": "4652c0b1-f4c2-4d72-ba32-5c10dac9358c",
   "metadata": {},
   "outputs": [],
   "source": [
    "def get_all_csv(directory):\n",
    "    csv_files = [file for file in os.listdir(directory) if file.endswith('.csv')]\n",
    "    return csv_files"
   ]
  },
  {
   "cell_type": "code",
   "execution_count": 6,
   "id": "1756fbd5-b40e-4fc1-afac-5336111dff09",
   "metadata": {},
   "outputs": [
    {
     "data": {
      "text/plain": [
       "Index(['Unnamed: 0', 'song', 'artist'], dtype='object')"
      ]
     },
     "execution_count": 6,
     "metadata": {},
     "output_type": "execute_result"
    }
   ],
   "source": [
    "df1 = pd.read_csv(\"combined.csv\")\n",
    "df1.columns"
   ]
  },
  {
   "cell_type": "code",
   "execution_count": 7,
   "id": "2ab14c55-bfb3-41d5-a8ea-4fc99d40c7c1",
   "metadata": {},
   "outputs": [],
   "source": [
    "chunk_size = 10000 # no of rows\n",
    "songdf = pd.DataFrame()\n",
    "\n",
    "for chunk in pd.read_csv(\"song_lyrics.csv\", chunksize = chunk_size):\n",
    "    chunk = chunk[['title', 'artist']]\n",
    "    chunk.columns = ['song', 'artist']\n",
    "    songdf = pd.concat([songdf, chunk]) "
   ]
  },
  {
   "cell_type": "code",
   "execution_count": 10,
   "id": "d3197850-54de-4142-86cd-37fab6b533e8",
   "metadata": {},
   "outputs": [],
   "source": [
    "df = pd.concat([df1, songdf])"
   ]
  },
  {
   "cell_type": "code",
   "execution_count": 11,
   "id": "01d3f988-0c2a-409d-951b-ae6d8989ffba",
   "metadata": {},
   "outputs": [
    {
     "data": {
      "text/plain": [
       "7304652"
      ]
     },
     "execution_count": 11,
     "metadata": {},
     "output_type": "execute_result"
    }
   ],
   "source": [
    "len(df.drop_duplicates())"
   ]
  },
  {
   "cell_type": "code",
   "execution_count": 12,
   "id": "042eca93-2a21-42f3-8c06-8e19b7aa8905",
   "metadata": {},
   "outputs": [],
   "source": [
    "df.drop_duplicates(inplace = True)"
   ]
  },
  {
   "cell_type": "code",
   "execution_count": 13,
   "id": "251736ae-c9fd-42bb-8b4c-dff81d9c2dd8",
   "metadata": {},
   "outputs": [
    {
     "data": {
      "text/plain": [
       "7304652"
      ]
     },
     "execution_count": 13,
     "metadata": {},
     "output_type": "execute_result"
    }
   ],
   "source": [
    "len(df)"
   ]
  },
  {
   "cell_type": "code",
   "execution_count": 14,
   "id": "49b410a6-93fc-4dda-bc9f-48c21706b576",
   "metadata": {},
   "outputs": [],
   "source": [
    "df.to_csv('combined.csv')"
   ]
  },
  {
   "cell_type": "code",
   "execution_count": null,
   "id": "6dc4f648-27e3-4991-8aae-007b8255f91d",
   "metadata": {},
   "outputs": [],
   "source": []
  }
 ],
 "metadata": {
  "kernelspec": {
   "display_name": "Python 3 (ipykernel)",
   "language": "python",
   "name": "python3"
  },
  "language_info": {
   "codemirror_mode": {
    "name": "ipython",
    "version": 3
   },
   "file_extension": ".py",
   "mimetype": "text/x-python",
   "name": "python",
   "nbconvert_exporter": "python",
   "pygments_lexer": "ipython3",
   "version": "3.12.4"
  }
 },
 "nbformat": 4,
 "nbformat_minor": 5
}
