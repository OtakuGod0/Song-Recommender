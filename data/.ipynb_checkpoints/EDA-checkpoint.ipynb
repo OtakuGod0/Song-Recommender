{
 "cells": [
  {
   "cell_type": "code",
   "execution_count": 4,
   "id": "5df0d5f2-1da3-4b66-9703-6ef4fd781752",
   "metadata": {},
   "outputs": [],
   "source": [
    "import pandas as pd \n",
    "import numpy as np\n",
    "import os"
   ]
  },
  {
   "cell_type": "code",
   "execution_count": 2,
   "id": "4652c0b1-f4c2-4d72-ba32-5c10dac9358c",
   "metadata": {},
   "outputs": [],
   "source": [
    "def get_all_csv(directory):\n",
    "    csv_files = [file for file in os.listdir(directory) if file.endswith('.csv')]\n",
    "    return csv_files"
   ]
  },
  {
   "cell_type": "code",
   "execution_count": 3,
   "id": "9f3edfcf-3ef1-4ca6-b216-7d02aa9aa6be",
   "metadata": {},
   "outputs": [],
   "source": [
    "datas = get_all_csv('.')"
   ]
  },
  {
   "cell_type": "code",
   "execution_count": 5,
   "id": "ef2cb757-2295-4cbc-98b1-e9d669d7019c",
   "metadata": {},
   "outputs": [
    {
     "name": "stderr",
     "output_type": "stream",
     "text": [
      "C:\\Users\\admin\\AppData\\Local\\Temp\\ipykernel_14848\\1776977626.py:2: DtypeWarning: Columns (19) have mixed types. Specify dtype option on import or set low_memory=False.\n",
      "  df = pd.read_csv(data)\n"
     ]
    },
    {
     "name": "stdout",
     "output_type": "stream",
     "text": [
      "\n",
      "\n",
      " ******************** genres_v2.csv ********************\n",
      "Index(['danceability', 'energy', 'key', 'loudness', 'mode', 'speechiness',\n",
      "       'acousticness', 'instrumentalness', 'liveness', 'valence', 'tempo',\n",
      "       'type', 'id', 'uri', 'track_href', 'analysis_url', 'duration_ms',\n",
      "       'time_signature', 'genre', 'song_name', 'Unnamed: 0', 'title'],\n",
      "      dtype='object')\n",
      "leghth: 42305\n",
      "\n",
      "\n",
      " ******************** song_data.csv ********************\n",
      "Index(['song_id', 'title', 'release', 'artist_name', 'year'], dtype='object')\n",
      "leghth: 1000000\n",
      "\n",
      "\n",
      " ******************** Spotify_final_dataset.csv ********************\n",
      "Index(['Position', 'Artist Name', 'Song Name', 'Days', 'Top 10 (xTimes)',\n",
      "       'Peak Position', 'Peak Position (xTimes)', 'Peak Streams',\n",
      "       'Total Streams'],\n",
      "      dtype='object')\n",
      "leghth: 11084\n",
      "\n",
      "\n",
      " ******************** tracks_features.csv ********************\n",
      "Index(['id', 'name', 'album', 'album_id', 'artists', 'artist_ids',\n",
      "       'track_number', 'disc_number', 'explicit', 'danceability', 'energy',\n",
      "       'key', 'loudness', 'mode', 'speechiness', 'acousticness',\n",
      "       'instrumentalness', 'liveness', 'valence', 'tempo', 'duration_ms',\n",
      "       'time_signature', 'year', 'release_date'],\n",
      "      dtype='object')\n",
      "leghth: 1204025\n"
     ]
    }
   ],
   "source": [
    "for data in datas: \n",
    "    df = pd.read_csv(data)\n",
    "    print(\"\\n\\n\", \"*\"* 20, data, \"*\"*20)\n",
    "    print(df.columns)\n",
    "    print(\"leghth:\", len(df))"
   ]
  },
  {
   "cell_type": "code",
   "execution_count": 13,
   "id": "acd70191-c9f7-43e1-8e6b-8d4fba90f8d6",
   "metadata": {},
   "outputs": [
    {
     "data": {
      "text/plain": [
       "False"
      ]
     },
     "execution_count": 13,
     "metadata": {},
     "output_type": "execute_result"
    }
   ],
   "source": [
    "test = 'test.csv'\n",
    "test.startswith('.csv')"
   ]
  },
  {
   "cell_type": "code",
   "execution_count": null,
   "id": "36407351-c33b-486e-bc21-ad7ff5ca3983",
   "metadata": {},
   "outputs": [],
   "source": []
  }
 ],
 "metadata": {
  "kernelspec": {
   "display_name": "Python 3 (ipykernel)",
   "language": "python",
   "name": "python3"
  },
  "language_info": {
   "codemirror_mode": {
    "name": "ipython",
    "version": 3
   },
   "file_extension": ".py",
   "mimetype": "text/x-python",
   "name": "python",
   "nbconvert_exporter": "python",
   "pygments_lexer": "ipython3",
   "version": "3.12.4"
  }
 },
 "nbformat": 4,
 "nbformat_minor": 5
}
