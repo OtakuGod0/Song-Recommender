{
 "cells": [
  {
   "cell_type": "code",
   "execution_count": 24,
   "id": "1596ba1d-cb06-45fd-a804-dd41af4a3a62",
   "metadata": {},
   "outputs": [],
   "source": [
    "import os \n",
    "import pandas as pd \n",
    "import numpy as np\n",
    "import spotipy\n",
    "from spotipy.oauth2 import SpotifyOAuth"
   ]
  },
  {
   "cell_type": "code",
   "execution_count": 25,
   "id": "b51a46fe-29f6-45a3-bdc1-b4c5a34da7ea",
   "metadata": {},
   "outputs": [],
   "source": [
    "CLIENT_ID = os.getenv(\"SPOTIFY_CLIENT_ID\")\n",
    "CLIENT_SECRET = os.getenv(\"SPOTIFY_CLIENT_SECRET\")"
   ]
  },
  {
   "cell_type": "code",
   "execution_count": 26,
   "id": "5277ed87-5f12-4330-b12e-071d75e53bb2",
   "metadata": {},
   "outputs": [],
   "source": [
    "sp = spotipy.Spotify(auth_manager=SpotifyOAuth(\n",
    "    client_id=CLIENT_ID,\n",
    "    client_secret=CLIENT_SECRET,\n",
    "    redirect_uri=\"http://localhost:888/callback\",  # Must match the URI you set\n",
    "    scope=\"user-library-read\"\n",
    "))"
   ]
  },
  {
   "cell_type": "code",
   "execution_count": 44,
   "id": "68479d1f-f58e-4b72-9fe5-0025513a453e",
   "metadata": {},
   "outputs": [
    {
     "name": "stdout",
     "output_type": "stream",
     "text": [
      "2015-11-13\n",
      "2K87XMYnUMqLcX3zvtAF4G\n",
      "80\n"
     ]
    }
   ],
   "source": [
    "results = sp.search(q='drag me down', limit=1, type='track')\n",
    "track = results['tracks']['items'][0]\n",
    "print(track['album']['release_date'])\n",
    "print(track['id'])\n",
    "print(track['popularity'])"
   ]
  },
  {
   "cell_type": "code",
   "execution_count": 45,
   "id": "b7bd5f5e-204a-4ebd-8f1d-6e541d23f2e4",
   "metadata": {},
   "outputs": [
    {
     "data": {
      "text/plain": [
       "[{'danceability': 0.731,\n",
       "  'energy': 0.703,\n",
       "  'key': 0,\n",
       "  'loudness': -5.672,\n",
       "  'mode': 0,\n",
       "  'speechiness': 0.0368,\n",
       "  'acousticness': 0.111,\n",
       "  'instrumentalness': 0,\n",
       "  'liveness': 0.0657,\n",
       "  'valence': 0.595,\n",
       "  'tempo': 138.111,\n",
       "  'type': 'audio_features',\n",
       "  'id': '2K87XMYnUMqLcX3zvtAF4G',\n",
       "  'uri': 'spotify:track:2K87XMYnUMqLcX3zvtAF4G',\n",
       "  'track_href': 'https://api.spotify.com/v1/tracks/2K87XMYnUMqLcX3zvtAF4G',\n",
       "  'analysis_url': 'https://api.spotify.com/v1/audio-analysis/2K87XMYnUMqLcX3zvtAF4G',\n",
       "  'duration_ms': 192120,\n",
       "  'time_signature': 4}]"
      ]
     },
     "execution_count": 45,
     "metadata": {},
     "output_type": "execute_result"
    }
   ],
   "source": [
    "sp.audio_features(\"2K87XMYnUMqLcX3zvtAF4G\")"
   ]
  },
  {
   "cell_type": "code",
   "execution_count": null,
   "id": "645b60ce-1aad-4c54-aa14-a7ac51857894",
   "metadata": {},
   "outputs": [],
   "source": []
  }
 ],
 "metadata": {
  "kernelspec": {
   "display_name": "Python 3 (ipykernel)",
   "language": "python",
   "name": "python3"
  },
  "language_info": {
   "codemirror_mode": {
    "name": "ipython",
    "version": 3
   },
   "file_extension": ".py",
   "mimetype": "text/x-python",
   "name": "python",
   "nbconvert_exporter": "python",
   "pygments_lexer": "ipython3",
   "version": "3.12.4"
  }
 },
 "nbformat": 4,
 "nbformat_minor": 5
}
