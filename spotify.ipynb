{
 "cells": [
  {
   "cell_type": "code",
   "execution_count": 1,
   "id": "1596ba1d-cb06-45fd-a804-dd41af4a3a62",
   "metadata": {},
   "outputs": [],
   "source": [
    "import os \n",
    "import pandas as pd \n",
    "import numpy as np\n",
    "import spotipy\n",
    "from spotipy.oauth2 import SpotifyOAuth"
   ]
  },
  {
   "cell_type": "code",
   "execution_count": 2,
   "id": "b51a46fe-29f6-45a3-bdc1-b4c5a34da7ea",
   "metadata": {},
   "outputs": [],
   "source": [
    "CLIENT_ID = os.getenv(\"SPOTIFY_CLIENT_ID\")\n",
    "CLIENT_SECRET = os.getenv(\"SPOTIFY_CLIENT_SECRET\")"
   ]
  },
  {
   "cell_type": "code",
   "execution_count": 3,
   "id": "5277ed87-5f12-4330-b12e-071d75e53bb2",
   "metadata": {},
   "outputs": [],
   "source": [
    "sp = spotipy.Spotify(auth_manager=SpotifyOAuth(\n",
    "    client_id=CLIENT_ID,\n",
    "    client_secret=CLIENT_SECRET,\n",
    "    redirect_uri=\"http://localhost:888/callback\",  # Must match the URI you set\n",
    "    scope=\"user-library-read\"\n",
    "))"
   ]
  },
  {
   "cell_type": "code",
   "execution_count": 21,
   "id": "68479d1f-f58e-4b72-9fe5-0025513a453e",
   "metadata": {},
   "outputs": [
    {
     "name": "stdout",
     "output_type": "stream",
     "text": [
      "{'album': {'album_type': 'album', 'artists': [{'external_urls': {'spotify': 'https://open.spotify.com/artist/4AK6F7OLvEQ5QYCBNiQWHq'}, 'href': 'https://api.spotify.com/v1/artists/4AK6F7OLvEQ5QYCBNiQWHq', 'id': '4AK6F7OLvEQ5QYCBNiQWHq', 'name': 'One Direction', 'type': 'artist', 'uri': 'spotify:artist:4AK6F7OLvEQ5QYCBNiQWHq'}], 'available_markets': ['AR', 'AU', 'AT', 'BE', 'BO', 'BR', 'BG', 'CA', 'CL', 'CO', 'CR', 'CY', 'CZ', 'DK', 'DO', 'DE', 'EC', 'EE', 'SV', 'FI', 'FR', 'GR', 'GT', 'HN', 'HK', 'HU', 'IS', 'IE', 'IT', 'LV', 'LT', 'LU', 'MY', 'MT', 'MX', 'NL', 'NZ', 'NI', 'NO', 'PA', 'PY', 'PE', 'PH', 'PL', 'PT', 'SG', 'SK', 'ES', 'SE', 'CH', 'TW', 'TR', 'UY', 'US', 'GB', 'AD', 'LI', 'MC', 'ID', 'JP', 'TH', 'VN', 'RO', 'IL', 'ZA', 'SA', 'AE', 'BH', 'QA', 'OM', 'KW', 'EG', 'MA', 'DZ', 'TN', 'LB', 'JO', 'PS', 'IN', 'BY', 'KZ', 'MD', 'UA', 'AL', 'BA', 'HR', 'ME', 'MK', 'RS', 'SI', 'BD', 'PK', 'LK', 'GH', 'KE', 'NG', 'TZ', 'UG', 'AG', 'AM', 'BS', 'BB', 'BZ', 'BT', 'BW', 'BF', 'CV', 'CW', 'DM', 'FJ', 'GM', 'GE', 'GD', 'GW', 'GY', 'HT', 'JM', 'KI', 'LS', 'LR', 'MW', 'MV', 'ML', 'MH', 'FM', 'NA', 'NR', 'NE', 'PW', 'PG', 'PR', 'WS', 'SM', 'ST', 'SN', 'SC', 'SL', 'SB', 'KN', 'LC', 'VC', 'SR', 'TL', 'TO', 'TT', 'TV', 'VU', 'AZ', 'BN', 'BI', 'KH', 'CM', 'TD', 'KM', 'GQ', 'SZ', 'GA', 'GN', 'KG', 'LA', 'MO', 'MR', 'MN', 'NP', 'RW', 'TG', 'UZ', 'ZW', 'BJ', 'MG', 'MU', 'MZ', 'AO', 'CI', 'DJ', 'ZM', 'CD', 'CG', 'IQ', 'LY', 'TJ', 'VE', 'ET', 'XK'], 'external_urls': {'spotify': 'https://open.spotify.com/album/1gMxiQQSg5zeu4htBosASY'}, 'href': 'https://api.spotify.com/v1/albums/1gMxiQQSg5zeu4htBosASY', 'id': '1gMxiQQSg5zeu4htBosASY', 'images': [{'height': 640, 'url': 'https://i.scdn.co/image/ab67616d0000b273241e4fe75732c9c4b49b94c3', 'width': 640}, {'height': 300, 'url': 'https://i.scdn.co/image/ab67616d00001e02241e4fe75732c9c4b49b94c3', 'width': 300}, {'height': 64, 'url': 'https://i.scdn.co/image/ab67616d00004851241e4fe75732c9c4b49b94c3', 'width': 64}], 'name': 'Made In The A.M. (Deluxe Edition)', 'release_date': '2015-11-13', 'release_date_precision': 'day', 'total_tracks': 17, 'type': 'album', 'uri': 'spotify:album:1gMxiQQSg5zeu4htBosASY'}, 'artists': [{'external_urls': {'spotify': 'https://open.spotify.com/artist/4AK6F7OLvEQ5QYCBNiQWHq'}, 'href': 'https://api.spotify.com/v1/artists/4AK6F7OLvEQ5QYCBNiQWHq', 'id': '4AK6F7OLvEQ5QYCBNiQWHq', 'name': 'One Direction', 'type': 'artist', 'uri': 'spotify:artist:4AK6F7OLvEQ5QYCBNiQWHq'}], 'available_markets': ['AR', 'AU', 'AT', 'BE', 'BO', 'BR', 'BG', 'CA', 'CL', 'CO', 'CR', 'CY', 'CZ', 'DK', 'DO', 'DE', 'EC', 'EE', 'SV', 'FI', 'FR', 'GR', 'GT', 'HN', 'HK', 'HU', 'IS', 'IE', 'IT', 'LV', 'LT', 'LU', 'MY', 'MT', 'MX', 'NL', 'NZ', 'NI', 'NO', 'PA', 'PY', 'PE', 'PH', 'PL', 'PT', 'SG', 'SK', 'ES', 'SE', 'CH', 'TW', 'TR', 'UY', 'US', 'GB', 'AD', 'LI', 'MC', 'ID', 'JP', 'TH', 'VN', 'RO', 'IL', 'ZA', 'SA', 'AE', 'BH', 'QA', 'OM', 'KW', 'EG', 'MA', 'DZ', 'TN', 'LB', 'JO', 'PS', 'IN', 'BY', 'KZ', 'MD', 'UA', 'AL', 'BA', 'HR', 'ME', 'MK', 'RS', 'SI', 'BD', 'PK', 'LK', 'GH', 'KE', 'NG', 'TZ', 'UG', 'AG', 'AM', 'BS', 'BB', 'BZ', 'BT', 'BW', 'BF', 'CV', 'CW', 'DM', 'FJ', 'GM', 'GE', 'GD', 'GW', 'GY', 'HT', 'JM', 'KI', 'LS', 'LR', 'MW', 'MV', 'ML', 'MH', 'FM', 'NA', 'NR', 'NE', 'PW', 'PG', 'PR', 'WS', 'SM', 'ST', 'SN', 'SC', 'SL', 'SB', 'KN', 'LC', 'VC', 'SR', 'TL', 'TO', 'TT', 'TV', 'VU', 'AZ', 'BN', 'BI', 'KH', 'CM', 'TD', 'KM', 'GQ', 'SZ', 'GA', 'GN', 'KG', 'LA', 'MO', 'MR', 'MN', 'NP', 'RW', 'TG', 'UZ', 'ZW', 'BJ', 'MG', 'MU', 'MZ', 'AO', 'CI', 'DJ', 'ZM', 'CD', 'CG', 'IQ', 'LY', 'TJ', 'VE', 'ET', 'XK'], 'disc_number': 1, 'duration_ms': 192120, 'explicit': False, 'external_ids': {'isrc': 'GBHMU1500070'}, 'external_urls': {'spotify': 'https://open.spotify.com/track/2K87XMYnUMqLcX3zvtAF4G'}, 'href': 'https://api.spotify.com/v1/tracks/2K87XMYnUMqLcX3zvtAF4G', 'id': '2K87XMYnUMqLcX3zvtAF4G', 'is_local': False, 'name': 'Drag Me Down', 'popularity': 80, 'preview_url': 'https://p.scdn.co/mp3-preview/e7076008e9bccbf5c30ba62adb18a20040987f04?cid=7759e0d97bf644f088c1a4aeae368a28', 'track_number': 2, 'type': 'track', 'uri': 'spotify:track:2K87XMYnUMqLcX3zvtAF4G'}\n"
     ]
    }
   ],
   "source": [
    "results = sp.search(q='drag me down', limit=1, type='track')\n",
    "track = results['tracks']['items'][0]\n",
    "print(track)"
   ]
  },
  {
   "cell_type": "code",
   "execution_count": null,
   "id": "6cdb58e1-a338-400c-8718-0817db6bb1bc",
   "metadata": {},
   "outputs": [],
   "source": []
  }
 ],
 "metadata": {
  "kernelspec": {
   "display_name": "Python 3 (ipykernel)",
   "language": "python",
   "name": "python3"
  },
  "language_info": {
   "codemirror_mode": {
    "name": "ipython",
    "version": 3
   },
   "file_extension": ".py",
   "mimetype": "text/x-python",
   "name": "python",
   "nbconvert_exporter": "python",
   "pygments_lexer": "ipython3",
   "version": "3.12.4"
  }
 },
 "nbformat": 4,
 "nbformat_minor": 5
}
